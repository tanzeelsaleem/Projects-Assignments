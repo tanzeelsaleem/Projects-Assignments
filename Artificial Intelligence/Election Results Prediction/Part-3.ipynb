{
  "cells": [
    {
      "cell_type": "code",
      "execution_count": 1,
      "id": "ae55b957",
      "metadata": {
        "id": "ae55b957",
        "scrolled": true
      },
      "outputs": [],
      "source": [
        "import numpy as np\n",
        "import pandas as pd\n",
        "import math\n",
        "from heapq import nsmallest\n",
        "from sklearn.metrics import accuracy_score\n",
        "from sklearn.model_selection import train_test_split\n",
        "\n",
        "data = pd.read_csv(\"election_dataset.csv\")\n",
        "y = data['clinton_win'].values\n",
        "\n",
        "data = data.drop(\"clinton_win\", axis=1)\n",
        "data = data.drop(\"state\", axis=1)\n",
        "data = data.drop(\"county_name\", axis=1)\n",
        "\n",
        "data = (data-data.min())/(data.max()-data.min())\n",
        "x = data.values\n"
      ]
    },
    {
      "cell_type": "code",
      "execution_count": 2,
      "id": "1df8f0fe",
      "metadata": {
        "id": "1df8f0fe"
      },
      "outputs": [],
      "source": [
        "def l_one(x1, x2):\n",
        "    result = 0\n",
        "    for i in range(len(x1)):\n",
        "        result += abs(x1[i]-x2[i])\n",
        "    return result"
      ]
    },
    {
      "cell_type": "code",
      "execution_count": 3,
      "id": "1497b2ca",
      "metadata": {
        "id": "1497b2ca"
      },
      "outputs": [],
      "source": [
        "def l_two(x1, x2):\n",
        "    result = 0\n",
        "    for i in range(len(x1)):\n",
        "        result += (x1[i]-x2[i])**2\n",
        "    return math.sqrt(result)"
      ]
    },
    {
      "cell_type": "code",
      "execution_count": 4,
      "id": "56d008e7",
      "metadata": {
        "id": "56d008e7"
      },
      "outputs": [],
      "source": [
        "def l_inf(x1, x2):\n",
        "    result = 0\n",
        "    res = []\n",
        "    for i in range(len(x1)):\n",
        "        result = abs(x1[i]-x2[i])\n",
        "        res.append(result)\n",
        "    return max(res)"
      ]
    },
    {
      "cell_type": "code",
      "execution_count": 5,
      "id": "cfb570e3",
      "metadata": {
        "id": "cfb570e3",
        "scrolled": true
      },
      "outputs": [],
      "source": [
        "def result(x1, x2, y, fn):  \n",
        "  l1_res = []\n",
        "  dic = {}\n",
        "  res = []\n",
        "  for i in range(len(x1)):\n",
        "      for j in range(len(x2)):\n",
        "          if i!=j:\n",
        "              v = fn(x1[i],x2[j])\n",
        "              l1_res.append(v)\n",
        "              dic.update([(v, y[j])])\n",
        "      small_values = (nsmallest(3, l1_res))\n",
        "      zero = 0\n",
        "      one = 0\n",
        "      for i in range(3):\n",
        "        values = dic[small_values[i]]\n",
        "        if(values==1):\n",
        "          one+=1\n",
        "        elif(values==0):\n",
        "          zero+=1\n",
        "          \n",
        "      if one > zero:\n",
        "        res.append(1)\n",
        "      else:\n",
        "        res.append(0)\n",
        "\n",
        "  return res"
      ]
    },
    {
      "cell_type": "code",
      "execution_count": 6,
      "id": "88aqzJoMg7fU",
      "metadata": {
        "id": "88aqzJoMg7fU"
      },
      "outputs": [],
      "source": [
        "X_train, X_test, y_train, y_test = train_test_split(x, y, test_size=0.2, random_state=42)\n",
        "result1 = result(X_test, X_train, y_train, l_one)\n",
        "result2 = result(X_test, X_train, y_train, l_two)\n",
        "result3 = result(X_test, X_train, y_train, l_inf)\n"
      ]
    },
    {
      "cell_type": "code",
      "execution_count": 7,
      "id": "fa_hBMWmhTN-",
      "metadata": {
        "colab": {
          "base_uri": "https://localhost:8080/"
        },
        "id": "fa_hBMWmhTN-",
        "outputId": "526aba06-dff5-4443-807b-7d9f427aacdc"
      },
      "outputs": [
        {
          "output_type": "stream",
          "name": "stdout",
          "text": [
            "Accuracy from L-One Norm:  0.474120082815735\n",
            "Accuracy from L-two Norm:  0.5113871635610766\n",
            "Accuracy from L-infinity Norm:  0.5548654244306418\n"
          ]
        }
      ],
      "source": [
        "print(\"Accuracy from L-One Norm: \",accuracy_score(result1, y_test))\n",
        "print(\"Accuracy from L-two Norm: \",accuracy_score(result2, y_test))\n",
        "print(\"Accuracy from L-infinity Norm: \",accuracy_score(result3, y_test))"
      ]
    },
    {
      "cell_type": "code",
      "execution_count": 7,
      "id": "E-gyLofqergP",
      "metadata": {
        "id": "E-gyLofqergP"
      },
      "outputs": [],
      "source": []
    }
  ],
  "metadata": {
    "colab": {
      "collapsed_sections": [],
      "provenance": []
    },
    "kernelspec": {
      "display_name": "Python 3 (ipykernel)",
      "language": "python",
      "name": "python3"
    },
    "language_info": {
      "codemirror_mode": {
        "name": "ipython",
        "version": 3
      },
      "file_extension": ".py",
      "mimetype": "text/x-python",
      "name": "python",
      "nbconvert_exporter": "python",
      "pygments_lexer": "ipython3",
      "version": "3.10.8"
    }
  },
  "nbformat": 4,
  "nbformat_minor": 5
}