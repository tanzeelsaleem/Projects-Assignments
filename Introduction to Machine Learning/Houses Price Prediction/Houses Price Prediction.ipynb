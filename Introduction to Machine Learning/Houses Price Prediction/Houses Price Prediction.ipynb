{
  "cells": [
    {
      "cell_type": "code",
      "execution_count": 7,
      "metadata": {
        "colab": {
          "base_uri": "https://localhost:8080/",
          "height": 74
        },
        "id": "FyJxAXJ_kh1Z",
        "outputId": "0354e89e-0a43-4739-d48c-3c046ed01f9d"
      },
      "outputs": [
        {
          "data": {
            "text/html": [
              "<style>#sk-container-id-2 {color: black;background-color: white;}#sk-container-id-2 pre{padding: 0;}#sk-container-id-2 div.sk-toggleable {background-color: white;}#sk-container-id-2 label.sk-toggleable__label {cursor: pointer;display: block;width: 100%;margin-bottom: 0;padding: 0.3em;box-sizing: border-box;text-align: center;}#sk-container-id-2 label.sk-toggleable__label-arrow:before {content: \"▸\";float: left;margin-right: 0.25em;color: #696969;}#sk-container-id-2 label.sk-toggleable__label-arrow:hover:before {color: black;}#sk-container-id-2 div.sk-estimator:hover label.sk-toggleable__label-arrow:before {color: black;}#sk-container-id-2 div.sk-toggleable__content {max-height: 0;max-width: 0;overflow: hidden;text-align: left;background-color: #f0f8ff;}#sk-container-id-2 div.sk-toggleable__content pre {margin: 0.2em;color: black;border-radius: 0.25em;background-color: #f0f8ff;}#sk-container-id-2 input.sk-toggleable__control:checked~div.sk-toggleable__content {max-height: 200px;max-width: 100%;overflow: auto;}#sk-container-id-2 input.sk-toggleable__control:checked~label.sk-toggleable__label-arrow:before {content: \"▾\";}#sk-container-id-2 div.sk-estimator input.sk-toggleable__control:checked~label.sk-toggleable__label {background-color: #d4ebff;}#sk-container-id-2 div.sk-label input.sk-toggleable__control:checked~label.sk-toggleable__label {background-color: #d4ebff;}#sk-container-id-2 input.sk-hidden--visually {border: 0;clip: rect(1px 1px 1px 1px);clip: rect(1px, 1px, 1px, 1px);height: 1px;margin: -1px;overflow: hidden;padding: 0;position: absolute;width: 1px;}#sk-container-id-2 div.sk-estimator {font-family: monospace;background-color: #f0f8ff;border: 1px dotted black;border-radius: 0.25em;box-sizing: border-box;margin-bottom: 0.5em;}#sk-container-id-2 div.sk-estimator:hover {background-color: #d4ebff;}#sk-container-id-2 div.sk-parallel-item::after {content: \"\";width: 100%;border-bottom: 1px solid gray;flex-grow: 1;}#sk-container-id-2 div.sk-label:hover label.sk-toggleable__label {background-color: #d4ebff;}#sk-container-id-2 div.sk-serial::before {content: \"\";position: absolute;border-left: 1px solid gray;box-sizing: border-box;top: 0;bottom: 0;left: 50%;z-index: 0;}#sk-container-id-2 div.sk-serial {display: flex;flex-direction: column;align-items: center;background-color: white;padding-right: 0.2em;padding-left: 0.2em;position: relative;}#sk-container-id-2 div.sk-item {position: relative;z-index: 1;}#sk-container-id-2 div.sk-parallel {display: flex;align-items: stretch;justify-content: center;background-color: white;position: relative;}#sk-container-id-2 div.sk-item::before, #sk-container-id-2 div.sk-parallel-item::before {content: \"\";position: absolute;border-left: 1px solid gray;box-sizing: border-box;top: 0;bottom: 0;left: 50%;z-index: -1;}#sk-container-id-2 div.sk-parallel-item {display: flex;flex-direction: column;z-index: 1;position: relative;background-color: white;}#sk-container-id-2 div.sk-parallel-item:first-child::after {align-self: flex-end;width: 50%;}#sk-container-id-2 div.sk-parallel-item:last-child::after {align-self: flex-start;width: 50%;}#sk-container-id-2 div.sk-parallel-item:only-child::after {width: 0;}#sk-container-id-2 div.sk-dashed-wrapped {border: 1px dashed gray;margin: 0 0.4em 0.5em 0.4em;box-sizing: border-box;padding-bottom: 0.4em;background-color: white;}#sk-container-id-2 div.sk-label label {font-family: monospace;font-weight: bold;display: inline-block;line-height: 1.2em;}#sk-container-id-2 div.sk-label-container {text-align: center;}#sk-container-id-2 div.sk-container {/* jupyter's `normalize.less` sets `[hidden] { display: none; }` but bootstrap.min.css set `[hidden] { display: none !important; }` so we also need the `!important` here to be able to override the default hidden behavior on the sphinx rendered scikit-learn.org. See: https://github.com/scikit-learn/scikit-learn/issues/21755 */display: inline-block !important;position: relative;}#sk-container-id-2 div.sk-text-repr-fallback {display: none;}</style><div id=\"sk-container-id-2\" class=\"sk-top-container\"><div class=\"sk-text-repr-fallback\"><pre>LinearRegression()</pre><b>In a Jupyter environment, please rerun this cell to show the HTML representation or trust the notebook. <br />On GitHub, the HTML representation is unable to render, please try loading this page with nbviewer.org.</b></div><div class=\"sk-container\" hidden><div class=\"sk-item\"><div class=\"sk-estimator sk-toggleable\"><input class=\"sk-toggleable__control sk-hidden--visually\" id=\"sk-estimator-id-2\" type=\"checkbox\" checked><label for=\"sk-estimator-id-2\" class=\"sk-toggleable__label sk-toggleable__label-arrow\">LinearRegression</label><div class=\"sk-toggleable__content\"><pre>LinearRegression()</pre></div></div></div></div></div>"
            ],
            "text/plain": [
              "LinearRegression()"
            ]
          },
          "execution_count": 7,
          "metadata": {},
          "output_type": "execute_result"
        }
      ],
      "source": [
        "import pandas as pd\n",
        "import numpy as np\n",
        "from sklearn.model_selection import train_test_split\n",
        "from sklearn.linear_model import LinearRegression\n",
        "\n",
        "houses_df = pd.read_csv(\"Houses.csv\")\n",
        "\n",
        "X = houses_df[['Area (Marla)', 'Beds', 'Baths']]\n",
        "Y = houses_df['Price (PKR:Crore)'] \n",
        "X_train, X_test, y_train, y_test = train_test_split(X, Y, test_size=0.2, random_state=42)\n",
        "lr = LinearRegression()\n",
        "lr.fit(X_train, y_train)"
      ]
    },
    {
      "cell_type": "code",
      "execution_count": 8,
      "metadata": {
        "colab": {
          "base_uri": "https://localhost:8080/"
        },
        "id": "rgNRX2vHLxKl",
        "outputId": "2d7ac3d0-96ef-4eff-fbd9-e340d60d5d6c"
      },
      "outputs": [
        {
          "name": "stdout",
          "output_type": "stream",
          "text": [
            "Mean Squared Error:  4.831565660405444\n",
            "\n",
            "Learning Rate:  0.001\n",
            "Mean Squared Error:  4.1945878714675885e+23\n",
            "\n",
            "Learning Rate:  0.01\n",
            "Mean Squared Error:  5.0047128559581983e+23\n",
            "\n",
            "Learning Rate:  0.1\n",
            "Mean Squared Error:  1.66508475394773e+27\n",
            "\n",
            "Learning Rate:  0.5\n",
            "Mean Squared Error:  3.8244616152954563e+28\n",
            "\n",
            "Learning Rate:  1\n",
            "Mean Squared Error:  1.7158820568654663e+29\n"
          ]
        }
      ],
      "source": [
        "# Multivariate Regression.\n",
        "from sklearn.linear_model import SGDRegressor\n",
        "from sklearn.metrics import mean_squared_error\n",
        "from sklearn.preprocessing import StandardScaler\n",
        "\n",
        "y_pred = lr.predict(X_test)\n",
        "\n",
        "mse = mean_squared_error(y_test, y_pred)\n",
        "print(\"Mean Squared Error: \", mse)\n",
        "\n",
        "# Without features scaling\n",
        "# Training a model with different learning rates\n",
        "learning_rates = [0.001, 0.01, 0.1, 0.5, 1]\n",
        "for lr in learning_rates:\n",
        "    sgd = SGDRegressor(max_iter=10000, eta0=lr, random_state=42)\n",
        "    sgd.fit(X_train, y_train.ravel())\n",
        "    y_pred = sgd.predict(X_test)\n",
        "    mse = mean_squared_error(y_test, y_pred)\n",
        "    print(\"\\nLearning Rate: \", lr)\n",
        "    print(\"Mean Squared Error: \", mse)\n"
      ]
    },
    {
      "cell_type": "code",
      "execution_count": 9,
      "metadata": {
        "colab": {
          "base_uri": "https://localhost:8080/"
        },
        "id": "973fsnq6PaIz",
        "outputId": "2cccd8c0-251a-4906-978f-ae835eaac7d0"
      },
      "outputs": [
        {
          "name": "stdout",
          "output_type": "stream",
          "text": [
            "\n",
            "Learning Rate:  0.001\n",
            "Mean Squared Error:  5.587585095665656\n",
            "\n",
            "Learning Rate:  0.01\n",
            "Mean Squared Error:  5.5777547169955195\n",
            "\n",
            "Learning Rate:  0.1\n",
            "Mean Squared Error:  5.10727109770817\n",
            "\n",
            "Learning Rate:  0.5\n",
            "Mean Squared Error:  41.02136007653824\n",
            "\n",
            "Learning Rate:  1\n",
            "Mean Squared Error:  3.831660528847993e+22\n"
          ]
        }
      ],
      "source": [
        "# With features scaling\n",
        "X_mean = np.mean(X_train, axis=0)\n",
        "X_std = np.std(X_train, axis=0)\n",
        "X_train_scaled = (X_train - X_mean) / X_std\n",
        "\n",
        "X_mean = np.mean(X_test, axis=0)\n",
        "X_std = np.std(X_test, axis=0)\n",
        "X_test_scaled = (X_test - X_mean) / X_std\n",
        "\n",
        "# Training a model with different learning rates\n",
        "for lr in learning_rates:\n",
        "    sgd = SGDRegressor(max_iter=10000, eta0=lr, random_state=42)\n",
        "    sgd.fit(X_train_scaled, y_train.ravel())\n",
        "    y_pred = sgd.predict(X_test_scaled)\n",
        "    mse = mean_squared_error(y_test, y_pred)\n",
        "    print(\"\\nLearning Rate: \", lr)\n",
        "    print(\"Mean Squared Error: \", mse)"
      ]
    },
    {
      "cell_type": "markdown",
      "metadata": {},
      "source": []
    },
    {
      "cell_type": "code",
      "execution_count": 10,
      "metadata": {
        "colab": {
          "base_uri": "https://localhost:8080/"
        },
        "id": "fjkQvuCZlYTs",
        "outputId": "efba00b0-5811-4631-f6fb-212790fab4af"
      },
      "outputs": [
        {
          "name": "stdout",
          "output_type": "stream",
          "text": [
            "Mean Squared Error Pollynomial Regression:  4.78528733436451\n",
            "\n",
            "Learning Rate:  0.001\n",
            "Mean Squared Error:  4.9165684234088947e+33\n",
            "\n",
            "Learning Rate:  0.01\n",
            "Mean Squared Error:  4.2911137288906214e+35\n",
            "\n",
            "Learning Rate:  0.1\n",
            "Mean Squared Error:  4.294422769435838e+37\n",
            "\n",
            "Learning Rate:  0.5\n",
            "Mean Squared Error:  1.073873836504878e+39\n",
            "\n",
            "Learning Rate:  1\n",
            "Mean Squared Error:  4.261118428576438e+39\n"
          ]
        }
      ],
      "source": [
        "# Polynomial Regression:\n",
        "from sklearn.preprocessing import PolynomialFeatures\n",
        "\n",
        "poly = PolynomialFeatures(degree=2)\n",
        "X_train_poly = poly.fit_transform(X_train)\n",
        "X_test_poly = poly.transform(X_test)\n",
        "\n",
        "lr_poly = LinearRegression()\n",
        "lr_poly.fit(X_train_poly, y_train)\n",
        "\n",
        "y_poly_pred = lr_poly.predict(X_test_poly)\n",
        "\n",
        "mse_poly = mean_squared_error(y_test, y_poly_pred)\n",
        "print(\"Mean Squared Error Pollynomial Regression: \", mse_poly)\n",
        "# Without feature scaling\n",
        "# Training a model with different learning rates\n",
        "for lr in learning_rates:\n",
        "    sgd = SGDRegressor(max_iter=10000, eta0=lr, random_state=42)\n",
        "    sgd.fit(X_train_poly, y_train.ravel())\n",
        "    y_pred = sgd.predict(X_test_poly)\n",
        "    mse = mean_squared_error(y_test, y_pred)\n",
        "    print(\"\\nLearning Rate: \", lr)\n",
        "    print(\"Mean Squared Error: \", mse)\n"
      ]
    },
    {
      "cell_type": "code",
      "execution_count": 11,
      "metadata": {
        "colab": {
          "base_uri": "https://localhost:8080/"
        },
        "id": "MQ9ux5gGRJOF",
        "outputId": "4932e29d-aba0-4d75-bf8c-b4a4b52bc1a9"
      },
      "outputs": [
        {
          "name": "stdout",
          "output_type": "stream",
          "text": [
            "\n",
            "Learning Rate:  0.001\n",
            "Mean Squared Error:  4.901112256067842\n",
            "\n",
            "Learning Rate:  0.01\n",
            "Mean Squared Error:  4.785950157912555\n",
            "\n",
            "Learning Rate:  0.1\n",
            "Mean Squared Error:  5.0221816695956765\n",
            "\n",
            "Learning Rate:  0.5\n",
            "Mean Squared Error:  3.8352821545616684e+22\n",
            "\n",
            "Learning Rate:  1\n",
            "Mean Squared Error:  9.579838193932118e+23\n"
          ]
        }
      ],
      "source": [
        "scaler = StandardScaler()\n",
        "X_train_poly_scaled = scaler.fit_transform(X_train_poly)\n",
        "X_test_poly_scaled = scaler.transform(X_test_poly)\n",
        "# With feature scaling\n",
        "# Training a model with different learning rates\n",
        "for lr in learning_rates:\n",
        "    sgd = SGDRegressor(max_iter=10000, eta0=lr, random_state=42)\n",
        "    sgd.fit(X_train_poly_scaled, y_train.ravel())\n",
        "    y_pred = sgd.predict(X_test_poly_scaled)\n",
        "    mse = mean_squared_error(y_test, y_pred)\n",
        "    print(\"\\nLearning Rate: \", lr)\n",
        "    print(\"Mean Squared Error: \", mse)"
      ]
    },
    {
      "cell_type": "code",
      "execution_count": 12,
      "metadata": {
        "colab": {
          "base_uri": "https://localhost:8080/"
        },
        "id": "VjZiOjkrl1_L",
        "outputId": "623bc56f-0e50-4fe5-ef31-7b7b4741a501"
      },
      "outputs": [
        {
          "name": "stdout",
          "output_type": "stream",
          "text": [
            "Score of Normal Equation: 4.831565660405443\n"
          ]
        }
      ],
      "source": [
        "# Normal equation\n",
        "X_b = np.c_[np.ones((len(X_train), 1)), X_train]\n",
        "theta_best = np.linalg.inv(X_b.T.dot(X_b)).dot(X_b.T).dot(y_train)\n",
        "\n",
        "# Making predictions on the testing set\n",
        "X_test_b = np.c_[np.ones((len(X_test), 1)), X_test]\n",
        "y_pred_norm = X_test_b.dot(theta_best)\n",
        "\n",
        "print(\"Score of Normal Equation:\", mean_squared_error(y_test, y_pred_norm))\n"
      ]
    }
  ],
  "metadata": {
    "colab": {
      "provenance": []
    },
    "kernelspec": {
      "display_name": "Python 3",
      "name": "python3"
    },
    "language_info": {
      "name": "python"
    }
  },
  "nbformat": 4,
  "nbformat_minor": 0
}
